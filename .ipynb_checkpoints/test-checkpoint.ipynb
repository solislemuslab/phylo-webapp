{
 "cells": [
  {
   "cell_type": "code",
   "execution_count": 1,
   "metadata": {},
   "outputs": [],
   "source": [
    "using PhyloClustering, PhyloNetworks, CSV, DataFrames\n",
    "using MultivariateStats"
   ]
  },
  {
   "cell_type": "code",
   "execution_count": 2,
   "metadata": {},
   "outputs": [
    {
     "ename": "LoadError",
     "evalue": "UndefVarError: `split_weight` not defined",
     "output_type": "error",
     "traceback": [
      "UndefVarError: `split_weight` not defined",
      "",
      "Stacktrace:",
      " [1] top-level scope",
      "   @ In[2]:2"
     ]
    }
   ],
   "source": [
    "trees = readMultiTopology(\"data/4_diff_topo_1_50_1.trees\")\n",
    "tree_matrix = split_weight(trees, 4)"
   ]
  },
  {
   "cell_type": "code",
   "execution_count": 5,
   "metadata": {},
   "outputs": [
    {
     "data": {
      "text/plain": [
       "list_functions (generic function with 1 method)"
      ]
     },
     "execution_count": 5,
     "metadata": {},
     "output_type": "execute_result"
    }
   ],
   "source": [
    "function list_functions()\n",
    "    fncs = filter( x -> isa(getfield(Main, x), Function), names(Main))\n",
    "    for (i, fn) in pairs(fncs)\n",
    "        println(fn)\n",
    "        if (mod(i, 10)) == 0\n",
    "            println(\"Press enter to continue...\")\n",
    "            readline()\n",
    "        end\n",
    "    end\n",
    "end"
   ]
  },
  {
   "cell_type": "code",
   "execution_count": 8,
   "metadata": {},
   "outputs": [
    {
     "data": {
      "text/plain": [
       "list_functions (generic function with 2 methods)"
      ]
     },
     "execution_count": 8,
     "metadata": {},
     "output_type": "execute_result"
    }
   ],
   "source": [
    "function list_functions(Module)\n",
    "   fncs = filter(x -> isa(getfield(Module, x), Function), names(Module))\n",
    "   foreach(x -> (println.(x); Base.prompt(\"\\nENTER\")), Iterators.partition(fncs, 10))\n",
    "end"
   ]
  },
  {
   "cell_type": "code",
   "execution_count": null,
   "metadata": {},
   "outputs": [],
   "source": []
  }
 ],
 "metadata": {
  "kernelspec": {
   "display_name": "Julia 1.10.0",
   "language": "julia",
   "name": "julia-1.10"
  },
  "language_info": {
   "file_extension": ".jl",
   "mimetype": "application/julia",
   "name": "julia",
   "version": "1.10.0"
  }
 },
 "nbformat": 4,
 "nbformat_minor": 2
}
